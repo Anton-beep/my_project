{
 "cells": [
  {
   "cell_type": "code",
   "execution_count": 32,
   "metadata": {},
   "outputs": [],
   "source": [
    "from sympy import *\n",
    "from math import sqrt"
   ]
  },
  {
   "cell_type": "code",
   "execution_count": 33,
   "metadata": {},
   "outputs": [],
   "source": [
    "SECOND_POINT = (100, 100)\n",
    "DERIVATIVE_START = 2"
   ]
  },
  {
   "cell_type": "code",
   "execution_count": 34,
   "metadata": {},
   "outputs": [],
   "source": [
    "x = symbols('x')\n",
    "a = symbols('a')\n",
    "b = symbols('b')\n",
    "r = symbols('r')\n",
    "\n",
    "f = b - (-(a ** 2) + 2 * a * x + r ** 2 - x ** 2) ** 0.5"
   ]
  },
  {
   "cell_type": "code",
   "execution_count": 35,
   "metadata": {},
   "outputs": [],
   "source": [
    "system = [f.subs(x, 0), f.subs(x, SECOND_POINT[0]) - SECOND_POINT[1], diff(f, x) - DERIVATIVE_START]"
   ]
  },
  {
   "cell_type": "code",
   "execution_count": 36,
   "metadata": {},
   "outputs": [
    {
     "name": "stdout",
     "output_type": "stream",
     "text": [
      "b - (-a**2 + r**2)**0.5\n",
      "b - (-a**2 + 200*a + r**2 - 10000)**0.5 - 100\n",
      "-(1.0*a - 1.0*x)/(-a**2 + 2*a*x + r**2 - x**2)**0.5 - 2\n"
     ]
    }
   ],
   "source": [
    "for el in system:\n",
    "    print(el)"
   ]
  },
  {
   "cell_type": "code",
   "execution_count": 37,
   "metadata": {},
   "outputs": [],
   "source": [
    "res_dict = solve(system, (a, b, r, f), dict=True)"
   ]
  },
  {
   "cell_type": "code",
   "execution_count": 38,
   "metadata": {},
   "outputs": [],
   "source": [
    "a = res_dict[0][a]\n",
    "b = res_dict[0][b]\n",
    "r = res_dict[0][r]"
   ]
  },
  {
   "cell_type": "code",
   "execution_count": 40,
   "metadata": {},
   "outputs": [],
   "source": [
    "f = b - (-(a ** 2) + 2 * a * x + r ** 2 - x ** 2) ** 0.5"
   ]
  },
  {
   "cell_type": "code",
   "execution_count": 41,
   "metadata": {},
   "outputs": [
    {
     "data": {
      "text/latex": [
       "$\\displaystyle - 149.071198499986 \\left(- 4.5 \\cdot 10^{-5} x^{2} + 4.5 \\cdot 10^{-5} x \\left(- 3.33333333333333 x - 133.333333333333 \\sqrt{0.001 x^{2} - 0.1 x + 1} + 266.666666666667\\right) - 0.8 \\left(- 0.0125 x - 0.5 \\sqrt{0.001 x^{2} - 0.1 x + 1} + 1\\right)^{2} + \\left(0.02 x + 0.5 \\sqrt{0.001 x^{2} - 0.1 x + 1} - 1\\right)^{2}\\right)^{0.5} + 74.535599249993 \\sqrt{0.0013 x^{2} + 0.04 x \\left(0.001 x^{2} - 0.1 x + 1\\right)^{0.5} - 0.1 x - 0.8 \\left(0.001 x^{2} - 0.1 x + 1\\right)^{0.5} + 1}$"
      ],
      "text/plain": [
       "-149.071198499986*(-4.5e-5*x**2 + 4.5e-5*x*(-3.33333333333333*x - 133.333333333333*sqrt(0.001*x**2 - 0.1*x + 1) + 266.666666666667) - 0.8*(-0.0125*x - 0.5*sqrt(0.001*x**2 - 0.1*x + 1) + 1)**2 + (0.02*x + 0.5*sqrt(0.001*x**2 - 0.1*x + 1) - 1)**2)**0.5 + 74.535599249993*sqrt(0.0013*x**2 + 0.04*x*(0.001*x**2 - 0.1*x + 1)**0.5 - 0.1*x - 0.8*(0.001*x**2 - 0.1*x + 1)**0.5 + 1)"
      ]
     },
     "execution_count": 41,
     "metadata": {},
     "output_type": "execute_result"
    }
   ],
   "source": [
    "f"
   ]
  }
 ],
 "metadata": {
  "kernelspec": {
   "display_name": "Python 3",
   "language": "python",
   "name": "python3"
  },
  "language_info": {
   "codemirror_mode": {
    "name": "ipython",
    "version": 3
   },
   "file_extension": ".py",
   "mimetype": "text/x-python",
   "name": "python",
   "nbconvert_exporter": "python",
   "pygments_lexer": "ipython3",
   "version": "3.10.5"
  },
  "orig_nbformat": 4
 },
 "nbformat": 4,
 "nbformat_minor": 2
}
