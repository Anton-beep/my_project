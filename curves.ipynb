{
 "cells": [
  {
   "cell_type": "code",
   "execution_count": 50,
   "metadata": {},
   "outputs": [],
   "source": [
    "from sympy import *\n",
    "from math import sqrt\n",
    "import numpy as np\n",
    "import matplotlib as mpl\n",
    "import matplotlib.pyplot as plt"
   ]
  },
  {
   "cell_type": "code",
   "execution_count": 51,
   "metadata": {},
   "outputs": [],
   "source": [
    "x = symbols('x')\n",
    "r = symbols('r')\n",
    "o = 1\n",
    "d = 100\n"
   ]
  },
  {
   "cell_type": "code",
   "execution_count": 52,
   "metadata": {},
   "outputs": [],
   "source": [
    "p = (- ((d * r / (d ** 2 + 1) ** 0.5) ** 2) + r ** 2) ** 0.5 - (- ((d * r / (d ** 2 + 1) ** 0.5) ** 2) + 2 * o * (d * r / (d ** 2 + 1) ** 0.5) + r ** 2 - o ** 2) ** 0.5"
   ]
  },
  {
   "cell_type": "code",
   "execution_count": 53,
   "metadata": {},
   "outputs": [
    {
     "data": {
      "text/latex": [
       "$\\displaystyle - 1.41417820924358 \\left(4.99975001874372 \\cdot 10^{-5} r^{2} + r - 0.500024999375031\\right)^{0.5} + 0.00999950003749215 \\left(r^{2}\\right)^{0.5}$"
      ],
      "text/plain": [
       "-1.41417820924358*(4.99975001874372e-5*r**2 + r - 0.500024999375031)**0.5 + 0.00999950003749215*(r**2)**0.5"
      ]
     },
     "execution_count": 53,
     "metadata": {},
     "output_type": "execute_result"
    }
   ],
   "source": [
    "p"
   ]
  },
  {
   "cell_type": "code",
   "execution_count": 54,
   "metadata": {},
   "outputs": [
    {
     "data": {
      "text/plain": [
       "[-5.64019495079725e+18]"
      ]
     },
     "execution_count": 54,
     "metadata": {},
     "output_type": "execute_result"
    }
   ],
   "source": [
    "solve(p - 5)"
   ]
  }
 ],
 "metadata": {
  "kernelspec": {
   "display_name": "Python 3",
   "language": "python",
   "name": "python3"
  },
  "language_info": {
   "codemirror_mode": {
    "name": "ipython",
    "version": 3
   },
   "file_extension": ".py",
   "mimetype": "text/x-python",
   "name": "python",
   "nbconvert_exporter": "python",
   "pygments_lexer": "ipython3",
   "version": "3.10.5"
  },
  "orig_nbformat": 4
 },
 "nbformat": 4,
 "nbformat_minor": 2
}
